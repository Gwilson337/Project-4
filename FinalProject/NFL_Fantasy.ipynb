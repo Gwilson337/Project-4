{
  "cells": [
    {
      "cell_type": "markdown",
      "metadata": {
        "id": "view-in-github",
        "colab_type": "text"
      },
      "source": [
        "<a href=\"https://colab.research.google.com/github/Gwilson337/Project-4/blob/main/FinalProject/NFL_Fantasy.ipynb\" target=\"_parent\"><img src=\"https://colab.research.google.com/assets/colab-badge.svg\" alt=\"Open In Colab\"/></a>"
      ]
    },
    {
      "cell_type": "code",
      "execution_count": 1,
      "id": "e580a8f4",
      "metadata": {
        "id": "e580a8f4"
      },
      "outputs": [],
      "source": [
        "import pandas as pd\n",
        "from pathlib import Path\n"
      ]
    },
    {
      "cell_type": "code",
      "source": [
        "from sklearn.model_selection import train_test_split\n",
        "from sklearn.preprocessing import StandardScaler\n",
        "import pandas as pd\n",
        "import tensorflow as tf"
      ],
      "metadata": {
        "id": "R2hOW7aFRnSL"
      },
      "id": "R2hOW7aFRnSL",
      "execution_count": 2,
      "outputs": []
    },
    {
      "cell_type": "code",
      "execution_count": 3,
      "id": "f4ec5a1f",
      "metadata": {
        "id": "f4ec5a1f"
      },
      "outputs": [],
      "source": [
        "#Create file paths\n",
        "csv_path1 = Path(\"/content/FantasyPros_2019.csv\")\n",
        "csv_path2 = Path(\"/content/FantasyPros_2020.csv\")\n",
        "csv_path3 = Path(\"/content/FantasyPros_2021.csv\")\n",
        "csv_path4 = Path(\"/content/FantasyPros_2022.csv\")\n",
        "csv_path5 = Path(\"/content/FantasyPros_2023.csv\")\n",
        "\n",
        "# Create DataFrames\n",
        "df1 = pd.read_csv(csv_path1)\n",
        "df2 = pd.read_csv(csv_path2)\n",
        "df3 = pd.read_csv(csv_path3)\n",
        "df4 = pd.read_csv(csv_path4)\n",
        "df5 = pd.read_csv(csv_path5)\n",
        "\n",
        "# #Join DataFrames\n",
        "# all_df = pd.concat([df1, df2, df3, df4, df5], axis = 1)\n",
        "# all_df.head()\n",
        "# # all_df.shape"
      ]
    },
    {
      "cell_type": "code",
      "source": [
        "df1 = df1[[\"#\", \"Player\", \"Pos\", \"AVG\", \"TTL\"]].rename(columns={\"#\" : \"2019_rank\", \"AVG\" : \"2019_AVG\", \"TTL\" : \"2019_TTL\"})\n",
        "df2 = df2[[\"#\", \"Player\", \"AVG\", \"TTL\"]].rename(columns={\"#\" : \"2020_rank\", \"AVG\" : \"2020_AVG\", \"TTL\" : \"2020_TTL\"})\n",
        "df3 = df3[[\"#\", \"Player\", \"AVG\", \"TTL\"]].rename(columns={\"#\" : \"2021_rank\", \"AVG\" : \"2021_AVG\", \"TTL\" : \"2021_TTL\"})\n",
        "df4 = df4[[\"#\", \"Player\", \"AVG\", \"TTL\"]].rename(columns={\"#\" : \"2022_rank\", \"AVG\" : \"2022_AVG\", \"TTL\" : \"2022_TTL\"})\n",
        "df5 = df5[[\"Player\", \"TTL\"]].rename(columns={\"TTL\" : \"2023_TTL\"})\n",
        "\n",
        "all_df = pd.merge(df1, df2, on=\"Player\", how=\"inner\")\n",
        "all_df = pd.merge(all_df, df3, on=\"Player\", how=\"inner\")\n",
        "all_df = pd.merge(all_df, df4, on=\"Player\", how=\"inner\")\n",
        "all_df = pd.merge(all_df, df5, on=\"Player\", how=\"inner\")\n",
        "\n",
        "all_df"
      ],
      "metadata": {
        "id": "lnym1f7xiNCR",
        "outputId": "0788720c-9204-44c1-e158-74e72720573d",
        "colab": {
          "base_uri": "https://localhost:8080/",
          "height": 458
        }
      },
      "id": "lnym1f7xiNCR",
      "execution_count": 4,
      "outputs": [
        {
          "output_type": "execute_result",
          "data": {
            "text/plain": [
              "     2019_rank               Player Pos  2019_AVG  2019_TTL  2020_rank  \\\n",
              "0            1        Lamar Jackson  QB      28.1     421.7         10   \n",
              "1            2  Christian McCaffrey  RB      22.2     355.2        222   \n",
              "2            3         Dak Prescott  QB      21.8     348.8         91   \n",
              "3            4       Jameis Winston  QB      21.0     335.4        573   \n",
              "4            5       Russell Wilson  QB      20.9     333.6          6   \n",
              "..         ...                  ...  ..       ...       ...        ...   \n",
              "272        565       Keith Kirkwood  WR       0.0       0.0        597   \n",
              "273        642            Tim Boyle  QB       0.0      -0.1        717   \n",
              "274        643         Nick Mullens  QB      -0.2      -0.3        109   \n",
              "275        648  Ray-Ray McCloud III  WR      -0.3      -2.0        466   \n",
              "276        651        Corey Clement  RB      -1.0      -4.0        436   \n",
              "\n",
              "     2020_AVG  2020_TTL  2021_rank  2021_AVG  2021_TTL  2022_rank  2022_AVG  \\\n",
              "0        22.8     341.8         19      21.1     253.0         19      20.3   \n",
              "1        24.5      73.4        191      12.9      90.5         14      16.0   \n",
              "2        27.7     138.6          8      20.7     330.6         28      17.8   \n",
              "3         0.6       2.4        127      17.2     120.4        292      16.3   \n",
              "4        23.3     372.8         20      17.8     248.8         22      15.7   \n",
              "..        ...       ...        ...       ...       ...        ...       ...   \n",
              "272       1.3       1.3        602       0.6       1.7        593       0.6   \n",
              "273      -0.1      -0.9        377       7.6      30.3        718      -0.9   \n",
              "274      12.8     128.3        498       9.9       9.9        468       3.2   \n",
              "275       0.8      12.2        388       1.7      27.2        311       2.6   \n",
              "276       1.1      16.0        406       2.1      22.9        436       3.4   \n",
              "\n",
              "     2022_TTL  2023_TTL  \n",
              "0       243.1     338.2  \n",
              "1       271.4     324.3  \n",
              "2       213.6     351.8  \n",
              "3        48.9      15.0  \n",
              "4       235.8     264.9  \n",
              "..        ...       ...  \n",
              "272       1.8       9.7  \n",
              "273      -0.9      14.9  \n",
              "274      12.8      74.7  \n",
              "275      44.1      16.5  \n",
              "276      16.9       0.0  \n",
              "\n",
              "[277 rows x 15 columns]"
            ],
            "text/html": [
              "\n",
              "  <div id=\"df-4d8203ca-fde4-4976-878d-aa63356f66f2\" class=\"colab-df-container\">\n",
              "    <div>\n",
              "<style scoped>\n",
              "    .dataframe tbody tr th:only-of-type {\n",
              "        vertical-align: middle;\n",
              "    }\n",
              "\n",
              "    .dataframe tbody tr th {\n",
              "        vertical-align: top;\n",
              "    }\n",
              "\n",
              "    .dataframe thead th {\n",
              "        text-align: right;\n",
              "    }\n",
              "</style>\n",
              "<table border=\"1\" class=\"dataframe\">\n",
              "  <thead>\n",
              "    <tr style=\"text-align: right;\">\n",
              "      <th></th>\n",
              "      <th>2019_rank</th>\n",
              "      <th>Player</th>\n",
              "      <th>Pos</th>\n",
              "      <th>2019_AVG</th>\n",
              "      <th>2019_TTL</th>\n",
              "      <th>2020_rank</th>\n",
              "      <th>2020_AVG</th>\n",
              "      <th>2020_TTL</th>\n",
              "      <th>2021_rank</th>\n",
              "      <th>2021_AVG</th>\n",
              "      <th>2021_TTL</th>\n",
              "      <th>2022_rank</th>\n",
              "      <th>2022_AVG</th>\n",
              "      <th>2022_TTL</th>\n",
              "      <th>2023_TTL</th>\n",
              "    </tr>\n",
              "  </thead>\n",
              "  <tbody>\n",
              "    <tr>\n",
              "      <th>0</th>\n",
              "      <td>1</td>\n",
              "      <td>Lamar Jackson</td>\n",
              "      <td>QB</td>\n",
              "      <td>28.1</td>\n",
              "      <td>421.7</td>\n",
              "      <td>10</td>\n",
              "      <td>22.8</td>\n",
              "      <td>341.8</td>\n",
              "      <td>19</td>\n",
              "      <td>21.1</td>\n",
              "      <td>253.0</td>\n",
              "      <td>19</td>\n",
              "      <td>20.3</td>\n",
              "      <td>243.1</td>\n",
              "      <td>338.2</td>\n",
              "    </tr>\n",
              "    <tr>\n",
              "      <th>1</th>\n",
              "      <td>2</td>\n",
              "      <td>Christian McCaffrey</td>\n",
              "      <td>RB</td>\n",
              "      <td>22.2</td>\n",
              "      <td>355.2</td>\n",
              "      <td>222</td>\n",
              "      <td>24.5</td>\n",
              "      <td>73.4</td>\n",
              "      <td>191</td>\n",
              "      <td>12.9</td>\n",
              "      <td>90.5</td>\n",
              "      <td>14</td>\n",
              "      <td>16.0</td>\n",
              "      <td>271.4</td>\n",
              "      <td>324.3</td>\n",
              "    </tr>\n",
              "    <tr>\n",
              "      <th>2</th>\n",
              "      <td>3</td>\n",
              "      <td>Dak Prescott</td>\n",
              "      <td>QB</td>\n",
              "      <td>21.8</td>\n",
              "      <td>348.8</td>\n",
              "      <td>91</td>\n",
              "      <td>27.7</td>\n",
              "      <td>138.6</td>\n",
              "      <td>8</td>\n",
              "      <td>20.7</td>\n",
              "      <td>330.6</td>\n",
              "      <td>28</td>\n",
              "      <td>17.8</td>\n",
              "      <td>213.6</td>\n",
              "      <td>351.8</td>\n",
              "    </tr>\n",
              "    <tr>\n",
              "      <th>3</th>\n",
              "      <td>4</td>\n",
              "      <td>Jameis Winston</td>\n",
              "      <td>QB</td>\n",
              "      <td>21.0</td>\n",
              "      <td>335.4</td>\n",
              "      <td>573</td>\n",
              "      <td>0.6</td>\n",
              "      <td>2.4</td>\n",
              "      <td>127</td>\n",
              "      <td>17.2</td>\n",
              "      <td>120.4</td>\n",
              "      <td>292</td>\n",
              "      <td>16.3</td>\n",
              "      <td>48.9</td>\n",
              "      <td>15.0</td>\n",
              "    </tr>\n",
              "    <tr>\n",
              "      <th>4</th>\n",
              "      <td>5</td>\n",
              "      <td>Russell Wilson</td>\n",
              "      <td>QB</td>\n",
              "      <td>20.9</td>\n",
              "      <td>333.6</td>\n",
              "      <td>6</td>\n",
              "      <td>23.3</td>\n",
              "      <td>372.8</td>\n",
              "      <td>20</td>\n",
              "      <td>17.8</td>\n",
              "      <td>248.8</td>\n",
              "      <td>22</td>\n",
              "      <td>15.7</td>\n",
              "      <td>235.8</td>\n",
              "      <td>264.9</td>\n",
              "    </tr>\n",
              "    <tr>\n",
              "      <th>...</th>\n",
              "      <td>...</td>\n",
              "      <td>...</td>\n",
              "      <td>...</td>\n",
              "      <td>...</td>\n",
              "      <td>...</td>\n",
              "      <td>...</td>\n",
              "      <td>...</td>\n",
              "      <td>...</td>\n",
              "      <td>...</td>\n",
              "      <td>...</td>\n",
              "      <td>...</td>\n",
              "      <td>...</td>\n",
              "      <td>...</td>\n",
              "      <td>...</td>\n",
              "      <td>...</td>\n",
              "    </tr>\n",
              "    <tr>\n",
              "      <th>272</th>\n",
              "      <td>565</td>\n",
              "      <td>Keith Kirkwood</td>\n",
              "      <td>WR</td>\n",
              "      <td>0.0</td>\n",
              "      <td>0.0</td>\n",
              "      <td>597</td>\n",
              "      <td>1.3</td>\n",
              "      <td>1.3</td>\n",
              "      <td>602</td>\n",
              "      <td>0.6</td>\n",
              "      <td>1.7</td>\n",
              "      <td>593</td>\n",
              "      <td>0.6</td>\n",
              "      <td>1.8</td>\n",
              "      <td>9.7</td>\n",
              "    </tr>\n",
              "    <tr>\n",
              "      <th>273</th>\n",
              "      <td>642</td>\n",
              "      <td>Tim Boyle</td>\n",
              "      <td>QB</td>\n",
              "      <td>0.0</td>\n",
              "      <td>-0.1</td>\n",
              "      <td>717</td>\n",
              "      <td>-0.1</td>\n",
              "      <td>-0.9</td>\n",
              "      <td>377</td>\n",
              "      <td>7.6</td>\n",
              "      <td>30.3</td>\n",
              "      <td>718</td>\n",
              "      <td>-0.9</td>\n",
              "      <td>-0.9</td>\n",
              "      <td>14.9</td>\n",
              "    </tr>\n",
              "    <tr>\n",
              "      <th>274</th>\n",
              "      <td>643</td>\n",
              "      <td>Nick Mullens</td>\n",
              "      <td>QB</td>\n",
              "      <td>-0.2</td>\n",
              "      <td>-0.3</td>\n",
              "      <td>109</td>\n",
              "      <td>12.8</td>\n",
              "      <td>128.3</td>\n",
              "      <td>498</td>\n",
              "      <td>9.9</td>\n",
              "      <td>9.9</td>\n",
              "      <td>468</td>\n",
              "      <td>3.2</td>\n",
              "      <td>12.8</td>\n",
              "      <td>74.7</td>\n",
              "    </tr>\n",
              "    <tr>\n",
              "      <th>275</th>\n",
              "      <td>648</td>\n",
              "      <td>Ray-Ray McCloud III</td>\n",
              "      <td>WR</td>\n",
              "      <td>-0.3</td>\n",
              "      <td>-2.0</td>\n",
              "      <td>466</td>\n",
              "      <td>0.8</td>\n",
              "      <td>12.2</td>\n",
              "      <td>388</td>\n",
              "      <td>1.7</td>\n",
              "      <td>27.2</td>\n",
              "      <td>311</td>\n",
              "      <td>2.6</td>\n",
              "      <td>44.1</td>\n",
              "      <td>16.5</td>\n",
              "    </tr>\n",
              "    <tr>\n",
              "      <th>276</th>\n",
              "      <td>651</td>\n",
              "      <td>Corey Clement</td>\n",
              "      <td>RB</td>\n",
              "      <td>-1.0</td>\n",
              "      <td>-4.0</td>\n",
              "      <td>436</td>\n",
              "      <td>1.1</td>\n",
              "      <td>16.0</td>\n",
              "      <td>406</td>\n",
              "      <td>2.1</td>\n",
              "      <td>22.9</td>\n",
              "      <td>436</td>\n",
              "      <td>3.4</td>\n",
              "      <td>16.9</td>\n",
              "      <td>0.0</td>\n",
              "    </tr>\n",
              "  </tbody>\n",
              "</table>\n",
              "<p>277 rows × 15 columns</p>\n",
              "</div>\n",
              "    <div class=\"colab-df-buttons\">\n",
              "\n",
              "  <div class=\"colab-df-container\">\n",
              "    <button class=\"colab-df-convert\" onclick=\"convertToInteractive('df-4d8203ca-fde4-4976-878d-aa63356f66f2')\"\n",
              "            title=\"Convert this dataframe to an interactive table.\"\n",
              "            style=\"display:none;\">\n",
              "\n",
              "  <svg xmlns=\"http://www.w3.org/2000/svg\" height=\"24px\" viewBox=\"0 -960 960 960\">\n",
              "    <path d=\"M120-120v-720h720v720H120Zm60-500h600v-160H180v160Zm220 220h160v-160H400v160Zm0 220h160v-160H400v160ZM180-400h160v-160H180v160Zm440 0h160v-160H620v160ZM180-180h160v-160H180v160Zm440 0h160v-160H620v160Z\"/>\n",
              "  </svg>\n",
              "    </button>\n",
              "\n",
              "  <style>\n",
              "    .colab-df-container {\n",
              "      display:flex;\n",
              "      gap: 12px;\n",
              "    }\n",
              "\n",
              "    .colab-df-convert {\n",
              "      background-color: #E8F0FE;\n",
              "      border: none;\n",
              "      border-radius: 50%;\n",
              "      cursor: pointer;\n",
              "      display: none;\n",
              "      fill: #1967D2;\n",
              "      height: 32px;\n",
              "      padding: 0 0 0 0;\n",
              "      width: 32px;\n",
              "    }\n",
              "\n",
              "    .colab-df-convert:hover {\n",
              "      background-color: #E2EBFA;\n",
              "      box-shadow: 0px 1px 2px rgba(60, 64, 67, 0.3), 0px 1px 3px 1px rgba(60, 64, 67, 0.15);\n",
              "      fill: #174EA6;\n",
              "    }\n",
              "\n",
              "    .colab-df-buttons div {\n",
              "      margin-bottom: 4px;\n",
              "    }\n",
              "\n",
              "    [theme=dark] .colab-df-convert {\n",
              "      background-color: #3B4455;\n",
              "      fill: #D2E3FC;\n",
              "    }\n",
              "\n",
              "    [theme=dark] .colab-df-convert:hover {\n",
              "      background-color: #434B5C;\n",
              "      box-shadow: 0px 1px 3px 1px rgba(0, 0, 0, 0.15);\n",
              "      filter: drop-shadow(0px 1px 2px rgba(0, 0, 0, 0.3));\n",
              "      fill: #FFFFFF;\n",
              "    }\n",
              "  </style>\n",
              "\n",
              "    <script>\n",
              "      const buttonEl =\n",
              "        document.querySelector('#df-4d8203ca-fde4-4976-878d-aa63356f66f2 button.colab-df-convert');\n",
              "      buttonEl.style.display =\n",
              "        google.colab.kernel.accessAllowed ? 'block' : 'none';\n",
              "\n",
              "      async function convertToInteractive(key) {\n",
              "        const element = document.querySelector('#df-4d8203ca-fde4-4976-878d-aa63356f66f2');\n",
              "        const dataTable =\n",
              "          await google.colab.kernel.invokeFunction('convertToInteractive',\n",
              "                                                    [key], {});\n",
              "        if (!dataTable) return;\n",
              "\n",
              "        const docLinkHtml = 'Like what you see? Visit the ' +\n",
              "          '<a target=\"_blank\" href=https://colab.research.google.com/notebooks/data_table.ipynb>data table notebook</a>'\n",
              "          + ' to learn more about interactive tables.';\n",
              "        element.innerHTML = '';\n",
              "        dataTable['output_type'] = 'display_data';\n",
              "        await google.colab.output.renderOutput(dataTable, element);\n",
              "        const docLink = document.createElement('div');\n",
              "        docLink.innerHTML = docLinkHtml;\n",
              "        element.appendChild(docLink);\n",
              "      }\n",
              "    </script>\n",
              "  </div>\n",
              "\n",
              "\n",
              "<div id=\"df-9f620bac-5768-45f6-a820-c38063302084\">\n",
              "  <button class=\"colab-df-quickchart\" onclick=\"quickchart('df-9f620bac-5768-45f6-a820-c38063302084')\"\n",
              "            title=\"Suggest charts\"\n",
              "            style=\"display:none;\">\n",
              "\n",
              "<svg xmlns=\"http://www.w3.org/2000/svg\" height=\"24px\"viewBox=\"0 0 24 24\"\n",
              "     width=\"24px\">\n",
              "    <g>\n",
              "        <path d=\"M19 3H5c-1.1 0-2 .9-2 2v14c0 1.1.9 2 2 2h14c1.1 0 2-.9 2-2V5c0-1.1-.9-2-2-2zM9 17H7v-7h2v7zm4 0h-2V7h2v10zm4 0h-2v-4h2v4z\"/>\n",
              "    </g>\n",
              "</svg>\n",
              "  </button>\n",
              "\n",
              "<style>\n",
              "  .colab-df-quickchart {\n",
              "      --bg-color: #E8F0FE;\n",
              "      --fill-color: #1967D2;\n",
              "      --hover-bg-color: #E2EBFA;\n",
              "      --hover-fill-color: #174EA6;\n",
              "      --disabled-fill-color: #AAA;\n",
              "      --disabled-bg-color: #DDD;\n",
              "  }\n",
              "\n",
              "  [theme=dark] .colab-df-quickchart {\n",
              "      --bg-color: #3B4455;\n",
              "      --fill-color: #D2E3FC;\n",
              "      --hover-bg-color: #434B5C;\n",
              "      --hover-fill-color: #FFFFFF;\n",
              "      --disabled-bg-color: #3B4455;\n",
              "      --disabled-fill-color: #666;\n",
              "  }\n",
              "\n",
              "  .colab-df-quickchart {\n",
              "    background-color: var(--bg-color);\n",
              "    border: none;\n",
              "    border-radius: 50%;\n",
              "    cursor: pointer;\n",
              "    display: none;\n",
              "    fill: var(--fill-color);\n",
              "    height: 32px;\n",
              "    padding: 0;\n",
              "    width: 32px;\n",
              "  }\n",
              "\n",
              "  .colab-df-quickchart:hover {\n",
              "    background-color: var(--hover-bg-color);\n",
              "    box-shadow: 0 1px 2px rgba(60, 64, 67, 0.3), 0 1px 3px 1px rgba(60, 64, 67, 0.15);\n",
              "    fill: var(--button-hover-fill-color);\n",
              "  }\n",
              "\n",
              "  .colab-df-quickchart-complete:disabled,\n",
              "  .colab-df-quickchart-complete:disabled:hover {\n",
              "    background-color: var(--disabled-bg-color);\n",
              "    fill: var(--disabled-fill-color);\n",
              "    box-shadow: none;\n",
              "  }\n",
              "\n",
              "  .colab-df-spinner {\n",
              "    border: 2px solid var(--fill-color);\n",
              "    border-color: transparent;\n",
              "    border-bottom-color: var(--fill-color);\n",
              "    animation:\n",
              "      spin 1s steps(1) infinite;\n",
              "  }\n",
              "\n",
              "  @keyframes spin {\n",
              "    0% {\n",
              "      border-color: transparent;\n",
              "      border-bottom-color: var(--fill-color);\n",
              "      border-left-color: var(--fill-color);\n",
              "    }\n",
              "    20% {\n",
              "      border-color: transparent;\n",
              "      border-left-color: var(--fill-color);\n",
              "      border-top-color: var(--fill-color);\n",
              "    }\n",
              "    30% {\n",
              "      border-color: transparent;\n",
              "      border-left-color: var(--fill-color);\n",
              "      border-top-color: var(--fill-color);\n",
              "      border-right-color: var(--fill-color);\n",
              "    }\n",
              "    40% {\n",
              "      border-color: transparent;\n",
              "      border-right-color: var(--fill-color);\n",
              "      border-top-color: var(--fill-color);\n",
              "    }\n",
              "    60% {\n",
              "      border-color: transparent;\n",
              "      border-right-color: var(--fill-color);\n",
              "    }\n",
              "    80% {\n",
              "      border-color: transparent;\n",
              "      border-right-color: var(--fill-color);\n",
              "      border-bottom-color: var(--fill-color);\n",
              "    }\n",
              "    90% {\n",
              "      border-color: transparent;\n",
              "      border-bottom-color: var(--fill-color);\n",
              "    }\n",
              "  }\n",
              "</style>\n",
              "\n",
              "  <script>\n",
              "    async function quickchart(key) {\n",
              "      const quickchartButtonEl =\n",
              "        document.querySelector('#' + key + ' button');\n",
              "      quickchartButtonEl.disabled = true;  // To prevent multiple clicks.\n",
              "      quickchartButtonEl.classList.add('colab-df-spinner');\n",
              "      try {\n",
              "        const charts = await google.colab.kernel.invokeFunction(\n",
              "            'suggestCharts', [key], {});\n",
              "      } catch (error) {\n",
              "        console.error('Error during call to suggestCharts:', error);\n",
              "      }\n",
              "      quickchartButtonEl.classList.remove('colab-df-spinner');\n",
              "      quickchartButtonEl.classList.add('colab-df-quickchart-complete');\n",
              "    }\n",
              "    (() => {\n",
              "      let quickchartButtonEl =\n",
              "        document.querySelector('#df-9f620bac-5768-45f6-a820-c38063302084 button');\n",
              "      quickchartButtonEl.style.display =\n",
              "        google.colab.kernel.accessAllowed ? 'block' : 'none';\n",
              "    })();\n",
              "  </script>\n",
              "</div>\n",
              "\n",
              "  <div id=\"id_62c9ea22-cbd9-4af0-8e84-f42585b55ddb\">\n",
              "    <style>\n",
              "      .colab-df-generate {\n",
              "        background-color: #E8F0FE;\n",
              "        border: none;\n",
              "        border-radius: 50%;\n",
              "        cursor: pointer;\n",
              "        display: none;\n",
              "        fill: #1967D2;\n",
              "        height: 32px;\n",
              "        padding: 0 0 0 0;\n",
              "        width: 32px;\n",
              "      }\n",
              "\n",
              "      .colab-df-generate:hover {\n",
              "        background-color: #E2EBFA;\n",
              "        box-shadow: 0px 1px 2px rgba(60, 64, 67, 0.3), 0px 1px 3px 1px rgba(60, 64, 67, 0.15);\n",
              "        fill: #174EA6;\n",
              "      }\n",
              "\n",
              "      [theme=dark] .colab-df-generate {\n",
              "        background-color: #3B4455;\n",
              "        fill: #D2E3FC;\n",
              "      }\n",
              "\n",
              "      [theme=dark] .colab-df-generate:hover {\n",
              "        background-color: #434B5C;\n",
              "        box-shadow: 0px 1px 3px 1px rgba(0, 0, 0, 0.15);\n",
              "        filter: drop-shadow(0px 1px 2px rgba(0, 0, 0, 0.3));\n",
              "        fill: #FFFFFF;\n",
              "      }\n",
              "    </style>\n",
              "    <button class=\"colab-df-generate\" onclick=\"generateWithVariable('all_df')\"\n",
              "            title=\"Generate code using this dataframe.\"\n",
              "            style=\"display:none;\">\n",
              "\n",
              "  <svg xmlns=\"http://www.w3.org/2000/svg\" height=\"24px\"viewBox=\"0 0 24 24\"\n",
              "       width=\"24px\">\n",
              "    <path d=\"M7,19H8.4L18.45,9,17,7.55,7,17.6ZM5,21V16.75L18.45,3.32a2,2,0,0,1,2.83,0l1.4,1.43a1.91,1.91,0,0,1,.58,1.4,1.91,1.91,0,0,1-.58,1.4L9.25,21ZM18.45,9,17,7.55Zm-12,3A5.31,5.31,0,0,0,4.9,8.1,5.31,5.31,0,0,0,1,6.5,5.31,5.31,0,0,0,4.9,4.9,5.31,5.31,0,0,0,6.5,1,5.31,5.31,0,0,0,8.1,4.9,5.31,5.31,0,0,0,12,6.5,5.46,5.46,0,0,0,6.5,12Z\"/>\n",
              "  </svg>\n",
              "    </button>\n",
              "    <script>\n",
              "      (() => {\n",
              "      const buttonEl =\n",
              "        document.querySelector('#id_62c9ea22-cbd9-4af0-8e84-f42585b55ddb button.colab-df-generate');\n",
              "      buttonEl.style.display =\n",
              "        google.colab.kernel.accessAllowed ? 'block' : 'none';\n",
              "\n",
              "      buttonEl.onclick = () => {\n",
              "        google.colab.notebook.generateWithVariable('all_df');\n",
              "      }\n",
              "      })();\n",
              "    </script>\n",
              "  </div>\n",
              "\n",
              "    </div>\n",
              "  </div>\n"
            ],
            "application/vnd.google.colaboratory.intrinsic+json": {
              "type": "dataframe",
              "variable_name": "all_df",
              "summary": "{\n  \"name\": \"all_df\",\n  \"rows\": 277,\n  \"fields\": [\n    {\n      \"column\": \"2019_rank\",\n      \"properties\": {\n        \"dtype\": \"number\",\n        \"std\": 179,\n        \"min\": 1,\n        \"max\": 651,\n        \"num_unique_values\": 245,\n        \"samples\": [\n          32,\n          8,\n          237\n        ],\n        \"semantic_type\": \"\",\n        \"description\": \"\"\n      }\n    },\n    {\n      \"column\": \"Player\",\n      \"properties\": {\n        \"dtype\": \"string\",\n        \"num_unique_values\": 277,\n        \"samples\": [\n          \"Saquon Barkley\",\n          \"Carolina Panthers\",\n          \"Alec Ingold\"\n        ],\n        \"semantic_type\": \"\",\n        \"description\": \"\"\n      }\n    },\n    {\n      \"column\": \"Pos\",\n      \"properties\": {\n        \"dtype\": \"category\",\n        \"num_unique_values\": 6,\n        \"samples\": [\n          \"QB\",\n          \"RB\",\n          \"TE\"\n        ],\n        \"semantic_type\": \"\",\n        \"description\": \"\"\n      }\n    },\n    {\n      \"column\": \"2019_AVG\",\n      \"properties\": {\n        \"dtype\": \"number\",\n        \"std\": 5.523608098800277,\n        \"min\": -1.0,\n        \"max\": 28.1,\n        \"num_unique_values\": 129,\n        \"samples\": [\n          8.2,\n          9.8,\n          19.2\n        ],\n        \"semantic_type\": \"\",\n        \"description\": \"\"\n      }\n    },\n    {\n      \"column\": \"2019_TTL\",\n      \"properties\": {\n        \"dtype\": \"number\",\n        \"std\": 82.82234263780909,\n        \"min\": -4.0,\n        \"max\": 421.7,\n        \"num_unique_values\": 242,\n        \"samples\": [\n          219.2,\n          297.3,\n          64.4\n        ],\n        \"semantic_type\": \"\",\n        \"description\": \"\"\n      }\n    },\n    {\n      \"column\": \"2020_rank\",\n      \"properties\": {\n        \"dtype\": \"number\",\n        \"std\": 181,\n        \"min\": 1,\n        \"max\": 720,\n        \"num_unique_values\": 249,\n        \"samples\": [\n          346,\n          2,\n          164\n        ],\n        \"semantic_type\": \"\",\n        \"description\": \"\"\n      }\n    },\n    {\n      \"column\": \"2020_AVG\",\n      \"properties\": {\n        \"dtype\": \"number\",\n        \"std\": 5.72386249782425,\n        \"min\": -0.1,\n        \"max\": 27.7,\n        \"num_unique_values\": 137,\n        \"samples\": [\n          0.7,\n          3.6,\n          16.9\n        ],\n        \"semantic_type\": \"\",\n        \"description\": \"\"\n      }\n    },\n    {\n      \"column\": \"2020_TTL\",\n      \"properties\": {\n        \"dtype\": \"number\",\n        \"std\": 81.89612172484645,\n        \"min\": -1.2,\n        \"max\": 405.1,\n        \"num_unique_values\": 246,\n        \"samples\": [\n          96.0,\n          390.7,\n          33.8\n        ],\n        \"semantic_type\": \"\",\n        \"description\": \"\"\n      }\n    },\n    {\n      \"column\": \"2021_rank\",\n      \"properties\": {\n        \"dtype\": \"number\",\n        \"std\": 176,\n        \"min\": 1,\n        \"max\": 748,\n        \"num_unique_values\": 255,\n        \"samples\": [\n          416,\n          11,\n          113\n        ],\n        \"semantic_type\": \"\",\n        \"description\": \"\"\n      }\n    },\n    {\n      \"column\": \"2021_AVG\",\n      \"properties\": {\n        \"dtype\": \"number\",\n        \"std\": 4.978803761320308,\n        \"min\": -0.2,\n        \"max\": 24.6,\n        \"num_unique_values\": 140,\n        \"samples\": [\n          3.7,\n          13.8,\n          15.4\n        ],\n        \"semantic_type\": \"\",\n        \"description\": \"\"\n      }\n    },\n    {\n      \"column\": \"2021_TTL\",\n      \"properties\": {\n        \"dtype\": \"number\",\n        \"std\": 78.2852496590773,\n        \"min\": -1.0,\n        \"max\": 417.6,\n        \"num_unique_values\": 252,\n        \"samples\": [\n          5.7,\n          310.5,\n          119.0\n        ],\n        \"semantic_type\": \"\",\n        \"description\": \"\"\n      }\n    },\n    {\n      \"column\": \"2022_rank\",\n      \"properties\": {\n        \"dtype\": \"number\",\n        \"std\": 181,\n        \"min\": 1,\n        \"max\": 718,\n        \"num_unique_values\": 244,\n        \"samples\": [\n          17,\n          32,\n          208\n        ],\n        \"semantic_type\": \"\",\n        \"description\": \"\"\n      }\n    },\n    {\n      \"column\": \"2022_AVG\",\n      \"properties\": {\n        \"dtype\": \"number\",\n        \"std\": 4.7570123814709255,\n        \"min\": -0.9,\n        \"max\": 25.2,\n        \"num_unique_values\": 131,\n        \"samples\": [\n          6.1,\n          10.3,\n          8.0\n        ],\n        \"semantic_type\": \"\",\n        \"description\": \"\"\n      }\n    },\n    {\n      \"column\": \"2022_TTL\",\n      \"properties\": {\n        \"dtype\": \"number\",\n        \"std\": 75.96688524066259,\n        \"min\": -0.9,\n        \"max\": 428.4,\n        \"num_unique_values\": 237,\n        \"samples\": [\n          162.0,\n          305.6,\n          -0.2\n        ],\n        \"semantic_type\": \"\",\n        \"description\": \"\"\n      }\n    },\n    {\n      \"column\": \"2023_TTL\",\n      \"properties\": {\n        \"dtype\": \"number\",\n        \"std\": 76.35625899910092,\n        \"min\": -1.3,\n        \"max\": 410.6,\n        \"num_unique_values\": 225,\n        \"samples\": [\n          0.0,\n          27.8,\n          -0.2\n        ],\n        \"semantic_type\": \"\",\n        \"description\": \"\"\n      }\n    }\n  ]\n}"
            }
          },
          "metadata": {},
          "execution_count": 4
        }
      ]
    },
    {
      "cell_type": "code",
      "source": [],
      "metadata": {
        "id": "gzADpe19iN4F"
      },
      "id": "gzADpe19iN4F",
      "execution_count": null,
      "outputs": []
    },
    {
      "cell_type": "code",
      "source": [],
      "metadata": {
        "id": "s86kumsqiOGg"
      },
      "id": "s86kumsqiOGg",
      "execution_count": null,
      "outputs": []
    },
    {
      "cell_type": "code",
      "source": [
        "all_df = pd.merge(df1,df2,how=\"left\",on=\"#\")\n",
        "all_df"
      ],
      "metadata": {
        "id": "DAwEXmlP4Gda"
      },
      "id": "DAwEXmlP4Gda",
      "execution_count": null,
      "outputs": []
    },
    {
      "cell_type": "code",
      "source": [
        "pd.merge??"
      ],
      "metadata": {
        "id": "yuM8dFaA5Spw"
      },
      "id": "yuM8dFaA5Spw",
      "execution_count": null,
      "outputs": []
    },
    {
      "cell_type": "code",
      "execution_count": null,
      "id": "97fd5160",
      "metadata": {
        "id": "97fd5160"
      },
      "outputs": [],
      "source": [
        "#Look for values equal to dash\n",
        "all_df[all_df[\"17\"]==\"-\"]\n"
      ]
    },
    {
      "cell_type": "code",
      "execution_count": null,
      "id": "38df7f89",
      "metadata": {
        "id": "38df7f89"
      },
      "outputs": [],
      "source": [
        "#Replace missing values with zero\n",
        "all_df.fillna(0, inplace=True)\n",
        "all_df\n"
      ]
    },
    {
      "cell_type": "code",
      "execution_count": null,
      "id": "1b810456",
      "metadata": {
        "id": "1b810456"
      },
      "outputs": [],
      "source": [
        "#Replace \"bye weeks\" with zero and check data types\n",
        "all_df = all_df.replace(\"BYE\", 0)\n",
        "all_df = all_df.replace(\"-\", 0)\n",
        "# all_df.dtypes\n"
      ]
    },
    {
      "cell_type": "code",
      "execution_count": null,
      "id": "7dee512d",
      "metadata": {
        "id": "7dee512d"
      },
      "outputs": [],
      "source": [
        "#Create list to store columns that should have numeric values\n",
        "val_columns = [\"#\", \"1\", \"2\", \"3\", \"4\", \"5\", \"6\", \"7\", \"8\", \"9\", \"10\",\n",
        "               \"11\", \"12\", \"13\", \"14\", \"15\", \"16\", \"17\", \"18\"]\n",
        "#Convert columns to float\n",
        "all_df[val_columns] = all_df[val_columns].astype(float)\n",
        "all_df.dtypes\n"
      ]
    },
    {
      "cell_type": "code",
      "source": [
        "player_df = all_df[['Team','Player']]"
      ],
      "metadata": {
        "id": "C_oMclM_cMUx"
      },
      "id": "C_oMclM_cMUx",
      "execution_count": null,
      "outputs": []
    },
    {
      "cell_type": "code",
      "execution_count": null,
      "id": "e8c91cd3",
      "metadata": {
        "id": "e8c91cd3"
      },
      "outputs": [],
      "source": [
        "all_df = all_df.drop(columns=['Player'])\n",
        "all_df.columns\n"
      ]
    },
    {
      "cell_type": "code",
      "execution_count": null,
      "id": "b4327802",
      "metadata": {
        "id": "b4327802"
      },
      "outputs": [],
      "source": [
        "#all_df = all_df.drop(columns=['Team'])"
      ]
    },
    {
      "cell_type": "code",
      "source": [
        "all_df.head()"
      ],
      "metadata": {
        "id": "yyqd72F3XY8T"
      },
      "id": "yyqd72F3XY8T",
      "execution_count": null,
      "outputs": []
    },
    {
      "cell_type": "code",
      "source": [
        "y = all_df['TTL']\n",
        "X = all_df.drop(columns='TTL')\n",
        "\n"
      ],
      "metadata": {
        "id": "n8tn-j8pXYyJ"
      },
      "id": "n8tn-j8pXYyJ",
      "execution_count": null,
      "outputs": []
    },
    {
      "cell_type": "code",
      "source": [
        "X.head()"
      ],
      "metadata": {
        "id": "ZK_1eQxuXYmB"
      },
      "id": "ZK_1eQxuXYmB",
      "execution_count": null,
      "outputs": []
    },
    {
      "cell_type": "code",
      "source": [
        "y[:5]"
      ],
      "metadata": {
        "id": "FljeVkczd59B"
      },
      "id": "FljeVkczd59B",
      "execution_count": null,
      "outputs": []
    },
    {
      "cell_type": "code",
      "source": [
        "X = pd.get_dummies(X)"
      ],
      "metadata": {
        "id": "IoJO31lMd50R"
      },
      "id": "IoJO31lMd50R",
      "execution_count": null,
      "outputs": []
    },
    {
      "cell_type": "code",
      "source": [
        "X.head()"
      ],
      "metadata": {
        "id": "q-IdUyjvd5qU"
      },
      "id": "q-IdUyjvd5qU",
      "execution_count": null,
      "outputs": []
    },
    {
      "cell_type": "code",
      "source": [
        "X_train, X_test, y_train, y_test = train_test_split(X, y, random_state=1)"
      ],
      "metadata": {
        "id": "WxdDLIDRecMc"
      },
      "id": "WxdDLIDRecMc",
      "execution_count": null,
      "outputs": []
    },
    {
      "cell_type": "code",
      "source": [
        "scaler = StandardScaler()"
      ],
      "metadata": {
        "id": "wxtcrbJgecCp"
      },
      "id": "wxtcrbJgecCp",
      "execution_count": null,
      "outputs": []
    },
    {
      "cell_type": "code",
      "source": [
        "X_scaler = scaler.fit(X_train)"
      ],
      "metadata": {
        "id": "VBEll3JPeb3o"
      },
      "id": "VBEll3JPeb3o",
      "execution_count": null,
      "outputs": []
    },
    {
      "cell_type": "code",
      "source": [
        "X_train_scaled = X_scaler.transform(X_train)"
      ],
      "metadata": {
        "id": "95-0-rzPfIeD"
      },
      "id": "95-0-rzPfIeD",
      "execution_count": null,
      "outputs": []
    },
    {
      "cell_type": "code",
      "source": [
        "X_test_scaled = X_scaler.transform(X_test)"
      ],
      "metadata": {
        "id": "D2jHcnuXfIa7"
      },
      "id": "D2jHcnuXfIa7",
      "execution_count": null,
      "outputs": []
    },
    {
      "cell_type": "code",
      "source": [
        "all_df.shape"
      ],
      "metadata": {
        "id": "-bVGDoZHfIXh"
      },
      "id": "-bVGDoZHfIXh",
      "execution_count": null,
      "outputs": []
    },
    {
      "cell_type": "code",
      "source": [
        "nn_model = tf.keras.models.Sequential()\n",
        "nn_model.add(tf.keras.layers.Dense(units=16, activation=\"relu\", input_dim=27))\n",
        "nn_model.add(tf.keras.layers.Dense(units=16, activation=\"relu\"))\n",
        "nn_model.add(tf.keras.layers.Dense(units=1, activation=\"relu\"))\n"
      ],
      "metadata": {
        "id": "PJb1NUJ5fg6K"
      },
      "id": "PJb1NUJ5fg6K",
      "execution_count": null,
      "outputs": []
    },
    {
      "cell_type": "code",
      "source": [
        "nn_model.compile(loss=\"mean_absolute_error\", optimizer=\"adam\", metrics=[\"accuracy\"])"
      ],
      "metadata": {
        "id": "-IApmKOSfIOU"
      },
      "id": "-IApmKOSfIOU",
      "execution_count": null,
      "outputs": []
    },
    {
      "cell_type": "code",
      "source": [
        "model_loss, model_accuracy = nn_model.evaluate(X_test_scaled,y_test,verbose=2)\n",
        "print(f\"Loss: {model_loss}, Accuracy: {model_accuracy}\")\n"
      ],
      "metadata": {
        "id": "MhMwAWP4iXXl"
      },
      "id": "MhMwAWP4iXXl",
      "execution_count": null,
      "outputs": []
    },
    {
      "cell_type": "code",
      "source": [
        "fit_model = nn_model.fit(X_train_scaled, y_train, epochs=50)"
      ],
      "metadata": {
        "id": "jAQRdXRdhhYA"
      },
      "id": "jAQRdXRdhhYA",
      "execution_count": null,
      "outputs": []
    },
    {
      "cell_type": "code",
      "source": [],
      "metadata": {
        "id": "IYmleiPvhhPq"
      },
      "id": "IYmleiPvhhPq",
      "execution_count": null,
      "outputs": []
    },
    {
      "cell_type": "code",
      "source": [],
      "metadata": {
        "id": "3WnmgVNAhhEL"
      },
      "id": "3WnmgVNAhhEL",
      "execution_count": null,
      "outputs": []
    }
  ],
  "metadata": {
    "kernelspec": {
      "display_name": "Python 3 (ipykernel)",
      "language": "python",
      "name": "python3"
    },
    "language_info": {
      "codemirror_mode": {
        "name": "ipython",
        "version": 3
      },
      "file_extension": ".py",
      "mimetype": "text/x-python",
      "name": "python",
      "nbconvert_exporter": "python",
      "pygments_lexer": "ipython3",
      "version": "3.11.5"
    },
    "colab": {
      "provenance": [],
      "include_colab_link": true
    }
  },
  "nbformat": 4,
  "nbformat_minor": 5
}